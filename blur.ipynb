{
 "cells": [
  {
   "cell_type": "code",
   "execution_count": 1,
   "metadata": {},
   "outputs": [],
   "source": [
    "import PIL\n",
    "from PIL import Image\n",
    "from PIL import ImageFilter\n",
    "from os import path\n",
    "import os\n",
    "import numpy as np\n",
    "import argparse\n",
    "from pathlib import Path\n",
    "import matplotlib.pyplot as plt\n",
    "\n",
    "\n",
    "def blur_images(input_dir: str, output_dir: str, filename: str, filter: str, radius: int):\n",
    "\n",
    "    standart_path = os.path.normpath(input_dir)\n",
    "    for root, dirs, files in os.walk(standart_path):\n",
    "        for file in files:\n",
    "            if (file == filename):\n",
    "                my_image = Image.open(os.path.join(standart_path,file))\n",
    "\n",
    "    #my_image.show()\n",
    "\n",
    "    numpydata = np.asarray(my_image)\n",
    "    #print(numpydata)\n",
    "\n",
    "    #blur image\n",
    "    if (filter == \"gaussian\"):\n",
    "        result_image = my_image.filter(ImageFilter.GaussianBlur(radius))\n",
    "\n",
    "    if (filter == \"box\"):\n",
    "        result_image = my_image.filter(ImageFilter.BoxBlur(radius))\n",
    "\n",
    "    if (filter == \"min\"):\n",
    "        result_image = my_image.filter(ImageFilter.MinFilter(radius))\n",
    "\n",
    "    if (filter == \"max\"):\n",
    "        result_image = my_image.filter(ImageFilter.MaxFilter(radius))\n",
    "\n",
    "    if (filter == \"median\"):\n",
    "        result_image = my_image.filter(ImageFilter.MedianFilter(radius))\n",
    "\n",
    "    output_path = os.path.join(output_dir,filename)\n",
    "\n",
    "    result_image.save(output_path)\n",
    "\n",
    "\n",
    "def gaussian_blur(image: np.array, radius=1) -> np.array:\n",
    "    blured = PIL.Image.fromarray(np.uint8(image)).filter(ImageFilter.GaussianBlur(radius))\n",
    "    return np.asarray(blured)\n",
    "\n",
    "\n",
    "def box_blur(image: np.array, radius=1) -> np.array:\n",
    "    blured = PIL.Image.fromarray(np.uint8(image)).filter(ImageFilter.BoxBlur(radius))\n",
    "    return np.asarray(blured)\n",
    "\n",
    "\n",
    "def min_filter(image: np.array, radius=3) -> np.array:\n",
    "    blured = PIL.Image.fromarray(np.uint8(image)).filter(ImageFilter.MinFilter(radius))\n",
    "    return np.asarray(blured)\n",
    "\n",
    "\n",
    "def max_filter(image: np.array, radius=3) -> np.array:\n",
    "    blured = PIL.Image.fromarray(np.uint8(image)).filter(ImageFilter.MaxFilter(radius))\n",
    "    return np.asarray(blured)\n",
    "\n",
    "\n",
    "def median_filter(image: np.array, radius=3) -> np.array:\n",
    "    blured = PIL.Image.fromarray(np.uint8(image)).filter(ImageFilter.MedianFilter(radius))\n",
    "    return np.asarray(blured)"
   ]
  },
  {
   "cell_type": "code",
   "execution_count": 2,
   "metadata": {},
   "outputs": [
    {
     "data": {
      "text/plain": [
       "(-0.5, 199.5, 49.5, -0.5)"
      ]
     },
     "execution_count": 2,
     "metadata": {},
     "output_type": "execute_result"
    },
    {
     "data": {
      "image/png": "[encoded data removed]",
      "text/plain": [
       "<Figure size 432x288 with 1 Axes>"
      ]
     },
     "metadata": {
      "needs_background": "light"
     },
     "output_type": "display_data"
    }
   ],
   "source": [
    "image = Image.open(\"./images_blur/fjQDZGSKQrJ.png\")\n",
    "img_blur = gaussian_blur(np.array(image))\n",
    "plt.imshow(img_blur, cmap=\"gray\")\n",
    "plt.axis('off')"
   ]
  },
  {
   "cell_type": "code",
   "execution_count": 3,
   "metadata": {},
   "outputs": [
    {
     "data": {
      "text/plain": [
       "(-0.5, 199.5, 49.5, -0.5)"
      ]
     },
     "execution_count": 3,
     "metadata": {},
     "output_type": "execute_result"
    },
    {
     "data": {
      "image/png": "[encoded data removed]",
      "text/plain": [
       "<Figure size 432x288 with 1 Axes>"
      ]
     },
     "metadata": {
      "needs_background": "light"
     },
     "output_type": "display_data"
    }
   ],
   "source": [
    "image = Image.open(\"./images_blur/fjQDZGSKQrJ.png\")\n",
    "img_blur = box_blur(np.array(image))\n",
    "plt.imshow(img_blur, cmap=\"gray\")\n",
    "plt.axis('off')"
   ]
  },
  {
   "cell_type": "code",
   "execution_count": 4,
   "metadata": {},
   "outputs": [
    {
     "data": {
      "text/plain": [
       "(-0.5, 199.5, 49.5, -0.5)"
      ]
     },
     "execution_count": 4,
     "metadata": {},
     "output_type": "execute_result"
    },
    {
     "data": {
      "image/png": "[encoded data removed]",
      "text/plain": [
       "<Figure size 432x288 with 1 Axes>"
      ]
     },
     "metadata": {
      "needs_background": "light"
     },
     "output_type": "display_data"
    }
   ],
   "source": [
    "image = Image.open(\"./images_blur/fjQDZGSKQrJ.png\")\n",
    "img_blur = min_filter(np.array(image))\n",
    "plt.imshow(img_blur, cmap=\"gray\")\n",
    "plt.axis('off')"
   ]
  },
  {
   "cell_type": "code",
   "execution_count": 5,
   "metadata": {},
   "outputs": [
    {
     "data": {
      "text/plain": [
       "(-0.5, 199.5, 49.5, -0.5)"
      ]
     },
     "execution_count": 5,
     "metadata": {},
     "output_type": "execute_result"
    },
    {
     "data": {
      "image/png": "[encoded data removed]",
      "text/plain": [
       "<Figure size 432x288 with 1 Axes>"
      ]
     },
     "metadata": {
      "needs_background": "light"
     },
     "output_type": "display_data"
    }
   ],
   "source": [
    "image = Image.open(\"./images_blur/fjQDZGSKQrJ.png\")\n",
    "img_blur = max_filter(np.array(image))\n",
    "plt.imshow(img_blur, cmap=\"gray\")\n",
    "plt.axis('off')"
   ]
  },
  {
   "cell_type": "code",
   "execution_count": 6,
   "metadata": {},
   "outputs": [
    {
     "data": {
      "text/plain": [
       "(-0.5, 199.5, 49.5, -0.5)"
      ]
     },
     "execution_count": 6,
     "metadata": {},
     "output_type": "execute_result"
    },
    {
     "data": {
      "image/png": "[encoded data removed]",
      "text/plain": [
       "<Figure size 432x288 with 1 Axes>"
      ]
     },
     "metadata": {
      "needs_background": "light"
     },
     "output_type": "display_data"
    }
   ],
   "source": [
    "image = Image.open(\"./images_blur/fjQDZGSKQrJ.png\")\n",
    "img_blur = median_filter(np.array(image))\n",
    "plt.imshow(img_blur, cmap=\"gray\")\n",
    "plt.axis('off')"
   ]
  },
  {
   "cell_type": "code",
   "execution_count": 7,
   "metadata": {},
   "outputs": [],
   "source": [
    "data_dir = Path(\"./images_blur/\")\n",
    "\n",
    "# Get list of all the images\n",
    "images = sorted(list(map(str, list(data_dir.glob(\"*.png\")))))\n",
    "images = [str(os.path.split(img)[1]) for img in images]\n",
    "for img in images:\n",
    "    blur_images(\"C:/Users/Solia/images_blur\", \"C:/Users/Solia/images_blur\", img, \"gaussian\", 2)"
   ]
  },
  {
   "cell_type": "code",
   "execution_count": 8,
   "metadata": {},
   "outputs": [],
   "source": [
    "data_dir = Path(\"./images_blur2/\")\n",
    "\n",
    "# Get list of all the images\n",
    "images = sorted(list(map(str, list(data_dir.glob(\"*.png\")))))\n",
    "images = [str(os.path.split(img)[1]) for img in images]\n",
    "for img in images:\n",
    "    blur_images(\"C:/Users/Solia/images_blur2\", \"C:/Users/Solia/images_blur2\", img, \"gaussian\", 2)"
   ]
  },
  {
   "cell_type": "code",
   "execution_count": null,
   "metadata": {},
   "outputs": [],
   "source": []
  }
 ],
 "metadata": {
  "kernelspec": {
   "display_name": "Python 3",
   "language": "python",
   "name": "python3"
  },
  "language_info": {
   "codemirror_mode": {
    "name": "ipython",
    "version": 3
   },
   "file_extension": ".py",
   "mimetype": "text/x-python",
   "name": "python",
   "nbconvert_exporter": "python",
   "pygments_lexer": "ipython3",
   "version": "3.7.3"
  }
 },
 "nbformat": 4,
 "nbformat_minor": 2
}
